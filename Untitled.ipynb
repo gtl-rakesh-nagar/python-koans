{
 "cells": [
  {
   "cell_type": "code",
   "execution_count": 7,
   "metadata": {},
   "outputs": [],
   "source": [
    "class Dog:\n",
    "    def name(self):\n",
    "        return \"Fido\"\n",
    "\n",
    "    def _tail(self):\n",
    "        # Prefixing a method with an underscore implies private scope\n",
    "        return \"wagging\"\n",
    "\n",
    "    def __password(self):\n",
    "        print('password') # Genius!"
   ]
  },
  {
   "cell_type": "code",
   "execution_count": 8,
   "metadata": {},
   "outputs": [],
   "source": [
    "rover = Dog()"
   ]
  },
  {
   "cell_type": "code",
   "execution_count": 11,
   "metadata": {},
   "outputs": [
    {
     "name": "stdout",
     "output_type": "stream",
     "text": [
      "password\n"
     ]
    }
   ],
   "source": [
    "password = rover._Dog__password()"
   ]
  },
  {
   "cell_type": "code",
   "execution_count": 19,
   "metadata": {},
   "outputs": [],
   "source": [
    "round_table = [\n",
    "    (\"Lancelot\", \"Blue\"),\n",
    "    (\"Galahad\", \"I don't know!\"),\n",
    "    (\"Robin\", \"Blue! I mean Green!\"),\n",
    "    (\"Arthur\", \"Is that an African Swallow or European Swallow?\")\n",
    "]\n",
    "result = []\n",
    "for knight, answer in round_table:\n",
    "    result.append(\"Contestant: '\" + knight + \"'   Answer: '\" + answer + \"'\")"
   ]
  },
  {
   "cell_type": "code",
   "execution_count": 20,
   "metadata": {},
   "outputs": [
    {
     "data": {
      "text/plain": [
       "[\"Contestant: 'Lancelot'   Answer: 'Blue'\",\n",
       " \"Contestant: 'Galahad'   Answer: 'I don't know!'\",\n",
       " \"Contestant: 'Robin'   Answer: 'Blue! I mean Green!'\",\n",
       " \"Contestant: 'Arthur'   Answer: 'Is that an African Swallow or European Swallow?'\"]"
      ]
     },
     "execution_count": 20,
     "metadata": {},
     "output_type": "execute_result"
    }
   ],
   "source": [
    "result\n"
   ]
  },
  {
   "cell_type": "code",
   "execution_count": 21,
   "metadata": {},
   "outputs": [
    {
     "data": {
      "text/plain": [
       "\"Contestant: 'Robin'   Answer: 'Blue! I mean Green!'\""
      ]
     },
     "execution_count": 21,
     "metadata": {},
     "output_type": "execute_result"
    }
   ],
   "source": [
    "result[2]"
   ]
  },
  {
   "cell_type": "code",
   "execution_count": 25,
   "metadata": {},
   "outputs": [],
   "source": [
    "class MySpecialError(RuntimeError):\n",
    "    pass\n",
    "\n",
    "def test_exceptions_inherit_from_exception():\n",
    "    mro = MySpecialError.mro()\n",
    "    assertEqual(__, mro[1].__name__)\n",
    "    assertEqual(__, mro[2].__name__)\n",
    "    assertEqual(__, mro[3].__name__)\n",
    "    assertEqual(__, mro[4].__name__)\n"
   ]
  },
  {
   "cell_type": "code",
   "execution_count": 26,
   "metadata": {},
   "outputs": [
    {
     "ename": "NameError",
     "evalue": "name 'mro' is not defined",
     "output_type": "error",
     "traceback": [
      "\u001b[1;31m---------------------------------------------------------------------------\u001b[0m",
      "\u001b[1;31mNameError\u001b[0m                                 Traceback (most recent call last)",
      "\u001b[1;32m<ipython-input-26-f923ad20c3ee>\u001b[0m in \u001b[0;36m<module>\u001b[1;34m()\u001b[0m\n\u001b[1;32m----> 1\u001b[1;33m \u001b[0mmro\u001b[0m\u001b[1;33m[\u001b[0m\u001b[1;36m1\u001b[0m\u001b[1;33m]\u001b[0m\u001b[1;33m.\u001b[0m\u001b[0m__name__\u001b[0m\u001b[1;33m\u001b[0m\u001b[0m\n\u001b[0m",
      "\u001b[1;31mNameError\u001b[0m: name 'mro' is not defined"
     ]
    }
   ],
   "source": [
    "mro[1].__name__"
   ]
  },
  {
   "cell_type": "code",
   "execution_count": 47,
   "metadata": {},
   "outputs": [
    {
     "data": {
      "text/plain": [
       "[10, 9, 8, 7, 6, 5, 4, 3, 2, 1]"
      ]
     },
     "execution_count": 47,
     "metadata": {},
     "output_type": "execute_result"
    }
   ],
   "source": [
    "list(range(10,0,-1))\n"
   ]
  },
  {
   "cell_type": "code",
   "execution_count": 46,
   "metadata": {},
   "outputs": [
    {
     "data": {
      "text/plain": [
       "[0, 1, 2, 3, 4, 5, 6, 7, 8, 9]"
      ]
     },
     "execution_count": 46,
     "metadata": {},
     "output_type": "execute_result"
    }
   ],
   "source": [
    "list(range(0,10))"
   ]
  },
  {
   "cell_type": "code",
   "execution_count": null,
   "metadata": {},
   "outputs": [],
   "source": []
  }
 ],
 "metadata": {
  "kernelspec": {
   "display_name": "Python 3",
   "language": "python",
   "name": "python3"
  },
  "language_info": {
   "codemirror_mode": {
    "name": "ipython",
    "version": 3
   },
   "file_extension": ".py",
   "mimetype": "text/x-python",
   "name": "python",
   "nbconvert_exporter": "python",
   "pygments_lexer": "ipython3",
   "version": "3.6.4"
  }
 },
 "nbformat": 4,
 "nbformat_minor": 2
}
